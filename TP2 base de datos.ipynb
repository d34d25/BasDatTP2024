{
  "cells": [
    {
      "cell_type": "markdown",
      "source": [
        "# Código de inicialización\n",
        "Este código permite inicializar las bibliotecas para usar SQLite en la máquina virtual de Google Colab. El código además elimina cualquier dato almacenado anteriormente en el archvio `ejemplos.db`. Es recomendable volver a correr el código cada vez que se comience con la resolución de un nuevo ejercicio."
      ],
      "metadata": {
        "id": "QuMn1Lbbdz7p"
      },
      "id": "QuMn1Lbbdz7p"
    },
    {
      "cell_type": "code",
      "execution_count": 1,
      "metadata": {
        "id": "IFHmq0oNKLZQ",
        "outputId": "0eda7827-68e4-4790-ddd3-4633565af33a",
        "colab": {
          "base_uri": "https://localhost:8080/"
        }
      },
      "outputs": [
        {
          "output_type": "stream",
          "name": "stdout",
          "text": [
            "Collecting pymysql\n",
            "  Downloading PyMySQL-1.1.1-py3-none-any.whl.metadata (4.4 kB)\n",
            "Downloading PyMySQL-1.1.1-py3-none-any.whl (44 kB)\n",
            "\u001b[?25l   \u001b[90m━━━━━━━━━━━━━━━━━━━━━━━━━━━━━━━━━━━━━━━━\u001b[0m \u001b[32m0.0/45.0 kB\u001b[0m \u001b[31m?\u001b[0m eta \u001b[36m-:--:--\u001b[0m\r\u001b[2K   \u001b[90m━━━━━━━━━━━━━━━━━━━━━━━━━━━━━━━━━━━━━━━━\u001b[0m \u001b[32m45.0/45.0 kB\u001b[0m \u001b[31m1.9 MB/s\u001b[0m eta \u001b[36m0:00:00\u001b[0m\n",
            "\u001b[?25hInstalling collected packages: pymysql\n",
            "Successfully installed pymysql-1.1.1\n"
          ]
        }
      ],
      "source": [
        "!pip install pymysql\n",
        "%load_ext sql\n",
        "!rm -rf ejemplos.db\n",
        "%sql sqlite:///ejemplos.db"
      ],
      "id": "IFHmq0oNKLZQ"
    },
    {
      "cell_type": "markdown",
      "id": "4bfd6149",
      "metadata": {
        "id": "4bfd6149"
      },
      "source": [
        "# TP2: Ejercicios de SQL"
      ]
    },
    {
      "cell_type": "markdown",
      "id": "75f13c80",
      "metadata": {
        "id": "75f13c80"
      },
      "source": [
        "\n",
        "## EJERCICIO 1:  Base de datos para un club náutico\n",
        "\n",
        "### Descripción:\n",
        "Se quiere diseñar una base de datos relacional para gestionar los datos de los socios de un club náutico. De cada socio se guardan los datos personales y la información de los barcos que posee:\n",
        "- Número de matrícula, nombre, número de amarre, cuota.\n",
        "\n",
        "Además, se almacena información sobre las salidas realizadas por cada barco:\n",
        "- Fecha y hora de salida, destino y datos del patrón (que no tiene que ser el propietario ni un socio del club).\n",
        "\n",
        "### Esquema propuesto:\n",
        "- Tabla `Socios`: Almacena la información de los socios del club.\n",
        "- Tabla `Barcos`: Almacena la información de los barcos y sus propietarios.\n",
        "- Tabla `Salidas`: Almacena la información de las salidas realizadas por los barcos.\n",
        "\n",
        "### Esquema de tablas\n",
        "Este sería el esquema de tablas en lenguaje DBML\n",
        "\n",
        "```dbml\n",
        "Table Socios {\n",
        "    id_socio INT [pk]\n",
        "    nombre VARCHAR(100)\n",
        "    direccion VARCHAR(255)\n",
        "}\n",
        "\n",
        "Table Barcos {\n",
        "    matricula VARCHAR(20) [pk]\n",
        "    nombre VARCHAR(100)\n",
        "    numero_amarre INT\n",
        "    cuota DECIMAL(10, 2)\n",
        "    id_socio INT [ref: > Socios.id_socio]\n",
        "}\n",
        "\n",
        "Table Salidas {\n",
        "    id_salida INT [pk]\n",
        "    matricula VARCHAR(20) [ref: > Barcos.matricula]\n",
        "    fecha_salida DATE\n",
        "    hora_salida TIME\n",
        "    destino VARCHAR(100)\n",
        "    patron_nombre VARCHAR(100)\n",
        "    patron_direccion VARCHAR(255)\n",
        "}\n",
        "```\n",
        "\n",
        "### Escriba abajo el código SQL necesario para crear las tablas:\n",
        "\n"
      ]
    },
    {
      "cell_type": "code",
      "source": [
        "%%sql\n",
        "CREATE TABLE Socios (\n",
        "    id_socio INTEGER PRIMARY KEY,\n",
        "    nombre VARCHAR(100),\n",
        "    direccion VARCHAR(255)\n",
        ");\n",
        "\n",
        "CREATE TABLE Barcos (\n",
        "    matricula VARCHAR(20) PRIMARY KEY,\n",
        "    nombre VARCHAR(100),\n",
        "    numero_amarre INTEGER,\n",
        "    cuota DECIMAL(10, 2),\n",
        "    id_socio INTEGER,\n",
        "    FOREIGN KEY (id_socio) REFERENCES Socios(id_socio)\n",
        ");\n",
        "\n",
        "CREATE TABLE Salidas (\n",
        "    id_salida INT PRIMARY KEY,\n",
        "    matricula VARCHAR(20),\n",
        "    fecha_salida DATE,\n",
        "    hora_salida TIME,\n",
        "    destino VARCHAR(100),\n",
        "    patron_nombre VARCHAR(100),\n",
        "    patron_direccion VARCHAR(255),\n",
        "    FOREIGN KEY (matricula) REFERENCES Barcos(matricula)\n",
        ");\n"
      ],
      "metadata": {
        "id": "WQJ1ZlDikHxc",
        "colab": {
          "base_uri": "https://localhost:8080/"
        },
        "outputId": "e1b9e572-8d65-464a-b131-54a2c3e69c24"
      },
      "id": "WQJ1ZlDikHxc",
      "execution_count": null,
      "outputs": [
        {
          "output_type": "stream",
          "name": "stdout",
          "text": [
            " * sqlite:///ejemplos.db\n",
            "Done.\n",
            "Done.\n",
            "Done.\n"
          ]
        },
        {
          "output_type": "execute_result",
          "data": {
            "text/plain": [
              "[]"
            ]
          },
          "metadata": {},
          "execution_count": 2
        }
      ]
    },
    {
      "cell_type": "markdown",
      "source": [
        "El código SQL de abajo le permite popular (es decir, rellenar) las tablas con datos."
      ],
      "metadata": {
        "id": "CvWQCFgMw6Aw"
      },
      "id": "CvWQCFgMw6Aw"
    },
    {
      "cell_type": "code",
      "source": [
        "%%sql\n",
        "-- Populación de las tablas\n",
        "INSERT INTO Socios (id_socio, nombre, direccion)\n",
        "VALUES\n",
        "(1, 'Juan Pérez', 'Calle Mayor 1, Madrid'),\n",
        "(2, 'Ana García', 'Calle Luna 5, Barcelona'),\n",
        "(3, 'Luis Fernández', 'Avenida del Sol 10, Valencia'),\n",
        "(4, 'Laura Sánchez', 'Plaza del Mar 3, Alicante'),\n",
        "(5, 'Carlos López', 'Calle Río 8, Sevilla'),\n",
        "(6, 'Marta Díaz', 'Calle de la Sierra 12, Zaragoza'),\n",
        "(7, 'Pedro Gómez', 'Calle Nueva 20, Bilbao'),\n",
        "(8, 'Lucía Jiménez', 'Calle Real 30, Madrid'),\n",
        "(9, 'María Torres', 'Calle Verde 15, Málaga'),\n",
        "(10, 'Fernando Martín', 'Calle Azul 25, Murcia');\n",
        "\n",
        "INSERT INTO Barcos (matricula, nombre, numero_amarre, cuota, id_socio)\n",
        "VALUES\n",
        "('ABC123', 'El Viento', 12, 600.50, 1),\n",
        "('DEF456', 'La Brisa', 8, 450.00, 2),\n",
        "('GHI789', 'El Sol', 15, 700.00, 3),\n",
        "('JKL012', 'El Mar', 10, 550.75, 4),\n",
        "('MNO345', 'La Luna', 18, 620.30, 5),\n",
        "('PQR678', 'El Horizonte', 20, 780.90, 6),\n",
        "('STU901', 'El Amanecer', 5, 400.00, 7),\n",
        "('VWX234', 'La Estrella', 7, 520.50, 8),\n",
        "('YZA567', 'La Marea', 14, 480.75, 9),\n",
        "('BCD890', 'El Océano', 6, 630.80, 10);\n",
        "\n",
        "INSERT INTO Salidas (id_salida, matricula, fecha_salida, hora_salida, destino, patron_nombre, patron_direccion)\n",
        "VALUES\n",
        "(1, 'ABC123', '2023-07-15', '10:30:00', 'Mallorca', 'Patrón 1', 'Calle de la Playa 1, Palma'),\n",
        "(2, 'DEF456', '2023-07-20', '09:00:00', 'Ibiza', 'Patrón 2', 'Avenida del Puerto 3, Valencia'),\n",
        "(3, 'GHI789', '2023-07-22', '08:45:00', 'Menorca', 'Patrón 3', 'Calle de la Costa 10, Alicante'),\n",
        "(4, 'JKL012', '2023-07-25', '11:15:00', 'Mallorca', 'Patrón 4', 'Plaza del Faro 5, Barcelona'),\n",
        "(5, 'MNO345', '2023-08-01', '14:00:00', 'Formentera', 'Patrón 5', 'Calle del Puerto 20, Ibiza'),\n",
        "(6, 'PQR678', '2023-08-05', '07:30:00', 'Mallorca', 'Patrón 6', 'Calle de las Olas 15, Palma'),\n",
        "(7, 'STU901', '2023-08-10', '12:00:00', 'Ibiza', 'Patrón 7', 'Avenida de la Marina 7, Barcelona'),\n",
        "(8, 'VWX234', '2023-08-12', '09:30:00', 'Cabrera', 'Patrón 8', 'Calle del Mar 12, Alicante'),\n",
        "(9, 'YZA567', '2023-08-15', '10:00:00', 'Formentera', 'Patrón 9', 'Calle del Sol 4, Ibiza'),\n",
        "(10, 'BCD890', '2023-08-20', '08:00:00', 'Menorca', 'Patrón 10', 'Plaza del Faro 2, Palma');\n"
      ],
      "metadata": {
        "id": "mGeEPoC8luIN",
        "colab": {
          "base_uri": "https://localhost:8080/"
        },
        "outputId": "8c28f754-b545-41a8-bd9d-760a680c7936"
      },
      "id": "mGeEPoC8luIN",
      "execution_count": null,
      "outputs": [
        {
          "output_type": "stream",
          "name": "stdout",
          "text": [
            " * sqlite:///ejemplos.db\n",
            "10 rows affected.\n",
            "10 rows affected.\n",
            "10 rows affected.\n"
          ]
        },
        {
          "output_type": "execute_result",
          "data": {
            "text/plain": [
              "[]"
            ]
          },
          "metadata": {},
          "execution_count": 3
        }
      ]
    },
    {
      "cell_type": "markdown",
      "source": [
        "### Resolver estas consignas:\n",
        "1. ¿Qué socios tienen barcos amarrados en un número de amarre mayor que 10?"
      ],
      "metadata": {
        "id": "0ofA3-cklW_5"
      },
      "id": "0ofA3-cklW_5"
    },
    {
      "cell_type": "code",
      "source": [
        "%%sql\n",
        "select id_socio, nombre from Socios where id_socio in (select id_socio from barcos where numero_amarre > 10);"
      ],
      "metadata": {
        "id": "Kbdb2-U7lbJo",
        "colab": {
          "base_uri": "https://localhost:8080/",
          "height": 179
        },
        "outputId": "05ec2ef8-650f-4bee-cd8c-d36c661162f0"
      },
      "id": "Kbdb2-U7lbJo",
      "execution_count": null,
      "outputs": [
        {
          "output_type": "stream",
          "name": "stdout",
          "text": [
            " * sqlite:///ejemplos.db\n",
            "Done.\n"
          ]
        },
        {
          "output_type": "execute_result",
          "data": {
            "text/plain": [
              "[(1, 'Juan Pérez'),\n",
              " (3, 'Luis Fernández'),\n",
              " (5, 'Carlos López'),\n",
              " (6, 'Marta Díaz'),\n",
              " (9, 'María Torres')]"
            ],
            "text/html": [
              "<table>\n",
              "    <thead>\n",
              "        <tr>\n",
              "            <th>id_socio</th>\n",
              "            <th>nombre</th>\n",
              "        </tr>\n",
              "    </thead>\n",
              "    <tbody>\n",
              "        <tr>\n",
              "            <td>1</td>\n",
              "            <td>Juan Pérez</td>\n",
              "        </tr>\n",
              "        <tr>\n",
              "            <td>3</td>\n",
              "            <td>Luis Fernández</td>\n",
              "        </tr>\n",
              "        <tr>\n",
              "            <td>5</td>\n",
              "            <td>Carlos López</td>\n",
              "        </tr>\n",
              "        <tr>\n",
              "            <td>6</td>\n",
              "            <td>Marta Díaz</td>\n",
              "        </tr>\n",
              "        <tr>\n",
              "            <td>9</td>\n",
              "            <td>María Torres</td>\n",
              "        </tr>\n",
              "    </tbody>\n",
              "</table>"
            ]
          },
          "metadata": {},
          "execution_count": 4
        }
      ]
    },
    {
      "cell_type": "markdown",
      "source": [
        "2. ¿Cuáles son los nombres de los barcos y sus cuotas de aquellos barcos cuyo socio se llama 'Juan Pérez'?"
      ],
      "metadata": {
        "id": "mWRK4z1yl9-X"
      },
      "id": "mWRK4z1yl9-X"
    },
    {
      "cell_type": "code",
      "source": [
        "%%sql\n",
        "select nombre as nombre_barco, cuota from Barcos where id_socio in (select id_socio from Socios where nombre = 'Juan Pérez');\n"
      ],
      "metadata": {
        "id": "cZyf9vCpmE-G",
        "colab": {
          "base_uri": "https://localhost:8080/",
          "height": 95
        },
        "outputId": "86132670-a119-4813-ef77-d28e232352a3"
      },
      "id": "cZyf9vCpmE-G",
      "execution_count": null,
      "outputs": [
        {
          "output_type": "stream",
          "name": "stdout",
          "text": [
            " * sqlite:///ejemplos.db\n",
            "Done.\n"
          ]
        },
        {
          "output_type": "execute_result",
          "data": {
            "text/plain": [
              "[('El Viento', 600.5)]"
            ],
            "text/html": [
              "<table>\n",
              "    <thead>\n",
              "        <tr>\n",
              "            <th>nombre_barco</th>\n",
              "            <th>cuota</th>\n",
              "        </tr>\n",
              "    </thead>\n",
              "    <tbody>\n",
              "        <tr>\n",
              "            <td>El Viento</td>\n",
              "            <td>600.5</td>\n",
              "        </tr>\n",
              "    </tbody>\n",
              "</table>"
            ]
          },
          "metadata": {},
          "execution_count": 5
        }
      ]
    },
    {
      "cell_type": "markdown",
      "source": [
        "3. ¿Cuántas salidas ha realizado el barco con matrícula 'ABC123'?"
      ],
      "metadata": {
        "id": "pbpnGkeFmPkq"
      },
      "id": "pbpnGkeFmPkq"
    },
    {
      "cell_type": "code",
      "source": [
        "%%sql\n",
        "select count(*) as cant_salidas ,matricula from Salidas where matricula='ABC123' group by matricula;\n"
      ],
      "metadata": {
        "id": "nuj5n3DZmS3N",
        "colab": {
          "base_uri": "https://localhost:8080/",
          "height": 95
        },
        "outputId": "7b44e79b-c3fb-431f-bfe4-8a5110f805e0"
      },
      "id": "nuj5n3DZmS3N",
      "execution_count": null,
      "outputs": [
        {
          "output_type": "stream",
          "name": "stdout",
          "text": [
            " * sqlite:///ejemplos.db\n",
            "Done.\n"
          ]
        },
        {
          "output_type": "execute_result",
          "data": {
            "text/plain": [
              "[(1, 'ABC123')]"
            ],
            "text/html": [
              "<table>\n",
              "    <thead>\n",
              "        <tr>\n",
              "            <th>cant_salidas</th>\n",
              "            <th>matricula</th>\n",
              "        </tr>\n",
              "    </thead>\n",
              "    <tbody>\n",
              "        <tr>\n",
              "            <td>1</td>\n",
              "            <td>ABC123</td>\n",
              "        </tr>\n",
              "    </tbody>\n",
              "</table>"
            ]
          },
          "metadata": {},
          "execution_count": 44
        }
      ]
    },
    {
      "cell_type": "markdown",
      "source": [
        "4. Lista los barcos que tienen una cuota mayor a 500 y sus respectivos socios."
      ],
      "metadata": {
        "id": "GgyZ5pjymbXx"
      },
      "id": "GgyZ5pjymbXx"
    },
    {
      "cell_type": "code",
      "source": [
        "%%sql\n",
        "select B.cuota, B.nombre ,(select nombre from Socios S where S.id_socio == B.id_socio) as socio_nombre from Barcos B where B.cuota > 500;"
      ],
      "metadata": {
        "id": "szEj8t7WmcpA",
        "colab": {
          "base_uri": "https://localhost:8080/",
          "height": 221
        },
        "outputId": "6789c753-518a-4484-b239-ae8faa49cbe2"
      },
      "id": "szEj8t7WmcpA",
      "execution_count": null,
      "outputs": [
        {
          "output_type": "stream",
          "name": "stdout",
          "text": [
            " * sqlite:///ejemplos.db\n",
            "Done.\n"
          ]
        },
        {
          "output_type": "execute_result",
          "data": {
            "text/plain": [
              "[(600.5, 'El Viento', 'Juan Pérez'),\n",
              " (700, 'El Sol', 'Luis Fernández'),\n",
              " (550.75, 'El Mar', 'Laura Sánchez'),\n",
              " (620.3, 'La Luna', 'Carlos López'),\n",
              " (780.9, 'El Horizonte', 'Marta Díaz'),\n",
              " (520.5, 'La Estrella', 'Lucía Jiménez'),\n",
              " (630.8, 'El Océano', 'Fernando Martín')]"
            ],
            "text/html": [
              "<table>\n",
              "    <thead>\n",
              "        <tr>\n",
              "            <th>cuota</th>\n",
              "            <th>nombre</th>\n",
              "            <th>socio_nombre</th>\n",
              "        </tr>\n",
              "    </thead>\n",
              "    <tbody>\n",
              "        <tr>\n",
              "            <td>600.5</td>\n",
              "            <td>El Viento</td>\n",
              "            <td>Juan Pérez</td>\n",
              "        </tr>\n",
              "        <tr>\n",
              "            <td>700</td>\n",
              "            <td>El Sol</td>\n",
              "            <td>Luis Fernández</td>\n",
              "        </tr>\n",
              "        <tr>\n",
              "            <td>550.75</td>\n",
              "            <td>El Mar</td>\n",
              "            <td>Laura Sánchez</td>\n",
              "        </tr>\n",
              "        <tr>\n",
              "            <td>620.3</td>\n",
              "            <td>La Luna</td>\n",
              "            <td>Carlos López</td>\n",
              "        </tr>\n",
              "        <tr>\n",
              "            <td>780.9</td>\n",
              "            <td>El Horizonte</td>\n",
              "            <td>Marta Díaz</td>\n",
              "        </tr>\n",
              "        <tr>\n",
              "            <td>520.5</td>\n",
              "            <td>La Estrella</td>\n",
              "            <td>Lucía Jiménez</td>\n",
              "        </tr>\n",
              "        <tr>\n",
              "            <td>630.8</td>\n",
              "            <td>El Océano</td>\n",
              "            <td>Fernando Martín</td>\n",
              "        </tr>\n",
              "    </tbody>\n",
              "</table>"
            ]
          },
          "metadata": {},
          "execution_count": 45
        }
      ]
    },
    {
      "cell_type": "markdown",
      "source": [],
      "metadata": {
        "id": "BuvaT17Xlbe_"
      },
      "id": "BuvaT17Xlbe_"
    },
    {
      "cell_type": "markdown",
      "source": [
        "5. ¿Qué barcos han salido con destino a 'Mallorca'?"
      ],
      "metadata": {
        "id": "pTl4-C4ymjpp"
      },
      "id": "pTl4-C4ymjpp"
    },
    {
      "cell_type": "code",
      "source": [
        "%%sql\n",
        "select B.nombre as nombre_barco from Barcos B where B.matricula in (select matricula from Salidas where destino = 'Mallorca');"
      ],
      "metadata": {
        "id": "tzlnW9Etmo8L",
        "colab": {
          "base_uri": "https://localhost:8080/",
          "height": 137
        },
        "outputId": "be734ed6-d3bb-499c-bc15-05720291b26b"
      },
      "id": "tzlnW9Etmo8L",
      "execution_count": null,
      "outputs": [
        {
          "output_type": "stream",
          "name": "stdout",
          "text": [
            " * sqlite:///ejemplos.db\n",
            "Done.\n"
          ]
        },
        {
          "output_type": "execute_result",
          "data": {
            "text/plain": [
              "[('El Viento',), ('El Mar',), ('El Horizonte',)]"
            ],
            "text/html": [
              "<table>\n",
              "    <thead>\n",
              "        <tr>\n",
              "            <th>nombre_barco</th>\n",
              "        </tr>\n",
              "    </thead>\n",
              "    <tbody>\n",
              "        <tr>\n",
              "            <td>El Viento</td>\n",
              "        </tr>\n",
              "        <tr>\n",
              "            <td>El Mar</td>\n",
              "        </tr>\n",
              "        <tr>\n",
              "            <td>El Horizonte</td>\n",
              "        </tr>\n",
              "    </tbody>\n",
              "</table>"
            ]
          },
          "metadata": {},
          "execution_count": 19
        }
      ]
    },
    {
      "cell_type": "markdown",
      "source": [
        "6. ¿Qué patrones (nombre y dirección) han llevado un barco cuyo socio vive en 'Barcelona'?"
      ],
      "metadata": {
        "id": "GsLPyY6WmtEn"
      },
      "id": "GsLPyY6WmtEn"
    },
    {
      "cell_type": "code",
      "source": [
        "%%sql\n",
        "select patron_nombre, patron_direccion from Salidas where matricula in (select matricula from Barcos where id_socio in (select id_socio from Socios where direccion like '%Barcelona%'));"
      ],
      "metadata": {
        "id": "AZJDPqvbmvOK",
        "colab": {
          "base_uri": "https://localhost:8080/",
          "height": 95
        },
        "outputId": "ea9f49e9-31e6-4ab4-d92e-04859d00a1d6"
      },
      "id": "AZJDPqvbmvOK",
      "execution_count": null,
      "outputs": [
        {
          "output_type": "stream",
          "name": "stdout",
          "text": [
            " * sqlite:///ejemplos.db\n",
            "Done.\n"
          ]
        },
        {
          "output_type": "execute_result",
          "data": {
            "text/plain": [
              "[('Patrón 2', 'Avenida del Puerto 3, Valencia')]"
            ],
            "text/html": [
              "<table>\n",
              "    <thead>\n",
              "        <tr>\n",
              "            <th>patron_nombre</th>\n",
              "            <th>patron_direccion</th>\n",
              "        </tr>\n",
              "    </thead>\n",
              "    <tbody>\n",
              "        <tr>\n",
              "            <td>Patrón 2</td>\n",
              "            <td>Avenida del Puerto 3, Valencia</td>\n",
              "        </tr>\n",
              "    </tbody>\n",
              "</table>"
            ]
          },
          "metadata": {},
          "execution_count": 47
        }
      ]
    },
    {
      "cell_type": "markdown",
      "source": [
        "### Repetir los incisos usando JOIN\n",
        "1. ¿Qué socios tienen barcos amarrados en un número de amarre mayor que 10?"
      ],
      "metadata": {
        "id": "ox9iE2T6j6Qe"
      },
      "id": "ox9iE2T6j6Qe"
    },
    {
      "cell_type": "code",
      "source": [
        "%%sql\n",
        "select S.nombre, B.numero_amarre from Socios S inner join Barcos B on (S.id_socio = B.id_socio) where B.numero_amarre > 10;"
      ],
      "metadata": {
        "id": "GLzT8mCxALp4",
        "colab": {
          "base_uri": "https://localhost:8080/",
          "height": 179
        },
        "outputId": "5c4e3fa7-54fa-4720-f6e0-1a3a090dd08f"
      },
      "id": "GLzT8mCxALp4",
      "execution_count": null,
      "outputs": [
        {
          "output_type": "stream",
          "name": "stdout",
          "text": [
            " * sqlite:///ejemplos.db\n",
            "Done.\n"
          ]
        },
        {
          "output_type": "execute_result",
          "data": {
            "text/plain": [
              "[('Juan Pérez', 12),\n",
              " ('Luis Fernández', 15),\n",
              " ('Carlos López', 18),\n",
              " ('Marta Díaz', 20),\n",
              " ('María Torres', 14)]"
            ],
            "text/html": [
              "<table>\n",
              "    <thead>\n",
              "        <tr>\n",
              "            <th>nombre</th>\n",
              "            <th>numero_amarre</th>\n",
              "        </tr>\n",
              "    </thead>\n",
              "    <tbody>\n",
              "        <tr>\n",
              "            <td>Juan Pérez</td>\n",
              "            <td>12</td>\n",
              "        </tr>\n",
              "        <tr>\n",
              "            <td>Luis Fernández</td>\n",
              "            <td>15</td>\n",
              "        </tr>\n",
              "        <tr>\n",
              "            <td>Carlos López</td>\n",
              "            <td>18</td>\n",
              "        </tr>\n",
              "        <tr>\n",
              "            <td>Marta Díaz</td>\n",
              "            <td>20</td>\n",
              "        </tr>\n",
              "        <tr>\n",
              "            <td>María Torres</td>\n",
              "            <td>14</td>\n",
              "        </tr>\n",
              "    </tbody>\n",
              "</table>"
            ]
          },
          "metadata": {},
          "execution_count": 49
        }
      ]
    },
    {
      "cell_type": "markdown",
      "source": [
        "2. ¿Cuáles son los nombres de los barcos y sus cuotas de aquellos barcos cuyo socio se llama 'Juan Pérez'?"
      ],
      "metadata": {
        "id": "mJJkAhkVAw4N"
      },
      "id": "mJJkAhkVAw4N"
    },
    {
      "cell_type": "code",
      "source": [
        "%%sql\n",
        "select B.nombre, B.cuota from Barcos B inner join Socios S on (B.id_socio = S.id_socio) where S.nombre = 'Juan Pérez';"
      ],
      "metadata": {
        "id": "PnZz1YO8A-tk",
        "colab": {
          "base_uri": "https://localhost:8080/",
          "height": 95
        },
        "outputId": "19a8c1ce-63e4-4277-d56a-94b857913308"
      },
      "id": "PnZz1YO8A-tk",
      "execution_count": null,
      "outputs": [
        {
          "output_type": "stream",
          "name": "stdout",
          "text": [
            " * sqlite:///ejemplos.db\n",
            "Done.\n"
          ]
        },
        {
          "output_type": "execute_result",
          "data": {
            "text/plain": [
              "[('El Viento', 600.5)]"
            ],
            "text/html": [
              "<table>\n",
              "    <thead>\n",
              "        <tr>\n",
              "            <th>nombre</th>\n",
              "            <th>cuota</th>\n",
              "        </tr>\n",
              "    </thead>\n",
              "    <tbody>\n",
              "        <tr>\n",
              "            <td>El Viento</td>\n",
              "            <td>600.5</td>\n",
              "        </tr>\n",
              "    </tbody>\n",
              "</table>"
            ]
          },
          "metadata": {},
          "execution_count": 34
        }
      ]
    },
    {
      "cell_type": "markdown",
      "source": [
        "3. ¿Cuántas salidas ha realizado el barco con matrícula 'ABC123'?"
      ],
      "metadata": {
        "id": "yk0e4EqFA2Wi"
      },
      "id": "yk0e4EqFA2Wi"
    },
    {
      "cell_type": "code",
      "source": [
        "%%sql\n",
        "select count(*) as cant_salidas, nombre as nombre_barco from Barcos B inner join Salidas S on (B.matricula = S.matricula) where S.matricula = 'ABC123';"
      ],
      "metadata": {
        "id": "DnZcgiyAA7IX",
        "colab": {
          "base_uri": "https://localhost:8080/",
          "height": 95
        },
        "outputId": "ae6c27fa-f4aa-4b5b-b9d2-4f2eb9236880"
      },
      "id": "DnZcgiyAA7IX",
      "execution_count": null,
      "outputs": [
        {
          "output_type": "stream",
          "name": "stdout",
          "text": [
            " * sqlite:///ejemplos.db\n",
            "Done.\n"
          ]
        },
        {
          "output_type": "execute_result",
          "data": {
            "text/plain": [
              "[(1, 'El Viento')]"
            ],
            "text/html": [
              "<table>\n",
              "    <thead>\n",
              "        <tr>\n",
              "            <th>cant_salidas</th>\n",
              "            <th>nombre_barco</th>\n",
              "        </tr>\n",
              "    </thead>\n",
              "    <tbody>\n",
              "        <tr>\n",
              "            <td>1</td>\n",
              "            <td>El Viento</td>\n",
              "        </tr>\n",
              "    </tbody>\n",
              "</table>"
            ]
          },
          "metadata": {},
          "execution_count": 42
        }
      ]
    },
    {
      "cell_type": "markdown",
      "source": [
        "4. Lista los barcos que tienen una cuota mayor a 500 y sus respectivos socios."
      ],
      "metadata": {
        "id": "Qeloyr4lBBNt"
      },
      "id": "Qeloyr4lBBNt"
    },
    {
      "cell_type": "code",
      "source": [
        "%%sql\n",
        "select s.nombre, b.cuota from Barcos B inner join Socios S on(S.id_socio == B.id_socio) where cuota > 500;"
      ],
      "metadata": {
        "id": "nfsIe3C3BCkR",
        "colab": {
          "base_uri": "https://localhost:8080/",
          "height": 221
        },
        "outputId": "3f1e71d6-135a-46d2-c727-9555d6610db9"
      },
      "id": "nfsIe3C3BCkR",
      "execution_count": null,
      "outputs": [
        {
          "output_type": "stream",
          "name": "stdout",
          "text": [
            " * sqlite:///ejemplos.db\n",
            "Done.\n"
          ]
        },
        {
          "output_type": "execute_result",
          "data": {
            "text/plain": [
              "[('Juan Pérez', 600.5),\n",
              " ('Luis Fernández', 700),\n",
              " ('Laura Sánchez', 550.75),\n",
              " ('Carlos López', 620.3),\n",
              " ('Marta Díaz', 780.9),\n",
              " ('Lucía Jiménez', 520.5),\n",
              " ('Fernando Martín', 630.8)]"
            ],
            "text/html": [
              "<table>\n",
              "    <thead>\n",
              "        <tr>\n",
              "            <th>nombre</th>\n",
              "            <th>cuota</th>\n",
              "        </tr>\n",
              "    </thead>\n",
              "    <tbody>\n",
              "        <tr>\n",
              "            <td>Juan Pérez</td>\n",
              "            <td>600.5</td>\n",
              "        </tr>\n",
              "        <tr>\n",
              "            <td>Luis Fernández</td>\n",
              "            <td>700</td>\n",
              "        </tr>\n",
              "        <tr>\n",
              "            <td>Laura Sánchez</td>\n",
              "            <td>550.75</td>\n",
              "        </tr>\n",
              "        <tr>\n",
              "            <td>Carlos López</td>\n",
              "            <td>620.3</td>\n",
              "        </tr>\n",
              "        <tr>\n",
              "            <td>Marta Díaz</td>\n",
              "            <td>780.9</td>\n",
              "        </tr>\n",
              "        <tr>\n",
              "            <td>Lucía Jiménez</td>\n",
              "            <td>520.5</td>\n",
              "        </tr>\n",
              "        <tr>\n",
              "            <td>Fernando Martín</td>\n",
              "            <td>630.8</td>\n",
              "        </tr>\n",
              "    </tbody>\n",
              "</table>"
            ]
          },
          "metadata": {},
          "execution_count": 50
        }
      ]
    },
    {
      "cell_type": "markdown",
      "source": [
        "5. ¿Qué barcos han salido con destino a 'Mallorca'?"
      ],
      "metadata": {
        "id": "GMqo1KlDBFwm"
      },
      "id": "GMqo1KlDBFwm"
    },
    {
      "cell_type": "code",
      "source": [
        "%%sql\n",
        "select B.nombre from Barcos B inner join Salidas S on(B.matricula = S.matricula) where S.destino = 'Mallorca';"
      ],
      "metadata": {
        "id": "etjf3fFgBFd-",
        "colab": {
          "base_uri": "https://localhost:8080/",
          "height": 137
        },
        "outputId": "19e745de-8088-46b1-916e-7e38ac5301d1"
      },
      "id": "etjf3fFgBFd-",
      "execution_count": null,
      "outputs": [
        {
          "output_type": "stream",
          "name": "stdout",
          "text": [
            " * sqlite:///ejemplos.db\n",
            "Done.\n"
          ]
        },
        {
          "output_type": "execute_result",
          "data": {
            "text/plain": [
              "[('El Viento',), ('El Mar',), ('El Horizonte',)]"
            ],
            "text/html": [
              "<table>\n",
              "    <thead>\n",
              "        <tr>\n",
              "            <th>nombre</th>\n",
              "        </tr>\n",
              "    </thead>\n",
              "    <tbody>\n",
              "        <tr>\n",
              "            <td>El Viento</td>\n",
              "        </tr>\n",
              "        <tr>\n",
              "            <td>El Mar</td>\n",
              "        </tr>\n",
              "        <tr>\n",
              "            <td>El Horizonte</td>\n",
              "        </tr>\n",
              "    </tbody>\n",
              "</table>"
            ]
          },
          "metadata": {},
          "execution_count": 28
        }
      ]
    },
    {
      "cell_type": "markdown",
      "source": [
        "6. ¿Qué patrones (nombre y dirección) han llevado un barco cuyo socio vive en 'Barcelona'?"
      ],
      "metadata": {
        "id": "4rDZTOCSBJQJ"
      },
      "id": "4rDZTOCSBJQJ"
    },
    {
      "cell_type": "code",
      "source": [
        "%%sql\n",
        "select S.patron_nombre, S.patron_direccion from Salidas S inner join Barcos B on (S.matricula = B.matricula) inner join Socios SO on (SO.id_socio = B.id_socio) where SO.direccion like '%BARCELONA%';"
      ],
      "metadata": {
        "id": "s6MRh7hHBKMb",
        "colab": {
          "base_uri": "https://localhost:8080/",
          "height": 95
        },
        "outputId": "16a2cce8-759e-45dd-bab0-f7096320537a"
      },
      "id": "s6MRh7hHBKMb",
      "execution_count": null,
      "outputs": [
        {
          "output_type": "stream",
          "name": "stdout",
          "text": [
            " * sqlite:///ejemplos.db\n",
            "Done.\n"
          ]
        },
        {
          "output_type": "execute_result",
          "data": {
            "text/plain": [
              "[('Patrón 2', 'Avenida del Puerto 3, Valencia')]"
            ],
            "text/html": [
              "<table>\n",
              "    <thead>\n",
              "        <tr>\n",
              "            <th>patron_nombre</th>\n",
              "            <th>patron_direccion</th>\n",
              "        </tr>\n",
              "    </thead>\n",
              "    <tbody>\n",
              "        <tr>\n",
              "            <td>Patrón 2</td>\n",
              "            <td>Avenida del Puerto 3, Valencia</td>\n",
              "        </tr>\n",
              "    </tbody>\n",
              "</table>"
            ]
          },
          "metadata": {},
          "execution_count": 33
        }
      ]
    },
    {
      "cell_type": "markdown",
      "id": "d3111595",
      "metadata": {
        "id": "d3111595"
      },
      "source": [
        "\n",
        "## EJERCICIO 2: Base de datos para un gabinete de abogados\n",
        "\n",
        "### Descripción:\n",
        "Se quiere diseñar una base de datos relacional para almacenar información sobre los asuntos que lleva un gabinete de abogados. Cada asunto tiene un número de expediente que lo identifica y corresponde a un solo cliente. Del asunto se debe almacenar:\n",
        "- Período (fecha de inicio y fecha de archivo o finalización)\n",
        "- Estado (en trámite, archivado, etc.)\n",
        "- Datos personales del cliente (DNI, nombre, dirección, etc.)\n",
        "\n",
        "Algunos asuntos son llevados por uno o varios procuradores, de los que nos interesa también almacenar los datos personales.\n",
        "\n",
        "### Esquema propuesto:\n",
        "- Tabla `Clientes`: Almacena la información de los clientes: dni (clave primaria), nombre y dirección.\n",
        "- Tabla `Asuntos`: Almacena la información de los asuntos: numero de expediente (clave primaria), dni del cliente (clave externa), fecha de inicio, fecha de fin y estado (Abierto o Cerrado). Si el asunto está abierto, no tiene fecha de fin.\n",
        "- Tabla `Procuradores`: Almacena la información de los procuradores: id del procurador (clave priaria), nombre y dirección.\n",
        "- Tabla `Asuntos_Procuradores`: Relaciona los asuntos con los procuradores (muchos a muchos).\n",
        "\n",
        "### SQL para crear las tablas:\n"
      ]
    },
    {
      "cell_type": "code",
      "source": [
        "%%sql\n",
        "\n",
        "CREATE TABLE Clientes (\n",
        "  dni INTEGER PRIMARY KEY,\n",
        "  nombre VARCHAR(100),\n",
        "  direccion VARCHAR(100)\n",
        ");\n",
        "\n",
        "CREATE TABLE Asuntos (\n",
        "  numero_expediente INTEGER PRIMARY KEY,\n",
        "  dni_cliente INTEGER,\n",
        "  fecha_inicio DATE,\n",
        "  fecha_fin DATE,\n",
        "  estado VARCHAR(10) CHECK (estado IN ('Abierto', 'Cerrado')),\n",
        "  FOREIGN KEY (dni_cliente) REFERENCES Clientes(dni)\n",
        ");\n",
        "\n",
        "CREATE TABLE Procuradores (\n",
        "  id_procurador INTEGER PRIMARY KEY,\n",
        "  nombre VARCHAR(100),\n",
        "  direccion VARCHAR(100)\n",
        ");\n",
        "\n",
        "CREATE TABLE Asuntos_Procuradores (\n",
        "    numero_expediente INTEGER,\n",
        "    id_procurador INTEGER,\n",
        "    PRIMARY KEY (numero_expediente, id_procurador),\n",
        "    FOREIGN KEY (id_procurador) REFERENCES Procuradores(id_procurador),\n",
        "    FOREIGN KEY (numero_expediente) REFERENCES Asuntos(numero_expediente)\n",
        ");"
      ],
      "metadata": {
        "id": "QtKIwysZeNtz",
        "colab": {
          "base_uri": "https://localhost:8080/"
        },
        "outputId": "40b2e14d-5422-44a9-ee2a-7d6e79416bcf"
      },
      "id": "QtKIwysZeNtz",
      "execution_count": 2,
      "outputs": [
        {
          "output_type": "stream",
          "name": "stdout",
          "text": [
            " * sqlite:///ejemplos.db\n",
            "Done.\n",
            "Done.\n",
            "Done.\n",
            "Done.\n"
          ]
        },
        {
          "output_type": "execute_result",
          "data": {
            "text/plain": [
              "[]"
            ]
          },
          "metadata": {},
          "execution_count": 2
        }
      ]
    },
    {
      "cell_type": "markdown",
      "source": [],
      "metadata": {
        "id": "Yhom8Hjlesap"
      },
      "id": "Yhom8Hjlesap"
    },
    {
      "cell_type": "code",
      "source": [
        "%%sql\n",
        "-- Poblar la tabla Clientes\n",
        "INSERT INTO Clientes (dni, nombre, direccion)\n",
        "VALUES\n",
        "('123456789', 'Juan Pérez', 'Calle Pueyrredón 3498, Buenos Aires'),\n",
        "('987654321', 'Ana García', 'Calle 5 323, La Plata'),\n",
        "('456123789', 'Luis Fernández', 'Avenida de Gral. Paz 1056, Bahía Blanca');\n",
        "\n",
        "-- Poblar la tabla Asuntos\n",
        "INSERT INTO Asuntos (numero_expediente, dni_cliente, fecha_inicio, fecha_fin, estado)\n",
        "VALUES\n",
        "(1, '123456789', '2023-01-15', '2023-07-20', 'Cerrado'),\n",
        "(2, '987654321', '2023-05-10', NULL, 'Abierto'),\n",
        "(3, '456123789', '2023-06-01', '2023-09-10', 'Cerrado');\n",
        "\n",
        "-- Poblar la tabla Procuradores\n",
        "INSERT INTO Procuradores (id_procurador, nombre, direccion)\n",
        "VALUES\n",
        "(1, 'Laura Sánchez', 'Calle Soler 3765, Buenos Aires'),\n",
        "(2, 'Carlos López', 'Calle Estrellas 8, Mar del Plata'),\n",
        "(3, 'Marta Díaz', 'Calle Estación 12, Olavarria');\n",
        "\n",
        "-- Poblar la tabla Asuntos_Procuradores\n",
        "INSERT INTO Asuntos_Procuradores (numero_expediente, id_procurador)\n",
        "VALUES\n",
        "(1, 1),\n",
        "(2, 2),\n",
        "(3, 3),\n",
        "(2, 1);  -- Un asunto puede tener varios procuradores"
      ],
      "metadata": {
        "id": "5o4a19qHetVz",
        "colab": {
          "base_uri": "https://localhost:8080/"
        },
        "outputId": "81f01906-2711-45da-bda4-d3e64db3a32c"
      },
      "id": "5o4a19qHetVz",
      "execution_count": 3,
      "outputs": [
        {
          "output_type": "stream",
          "name": "stdout",
          "text": [
            " * sqlite:///ejemplos.db\n",
            "3 rows affected.\n",
            "3 rows affected.\n",
            "3 rows affected.\n",
            "4 rows affected.\n"
          ]
        },
        {
          "output_type": "execute_result",
          "data": {
            "text/plain": [
              "[]"
            ]
          },
          "metadata": {},
          "execution_count": 3
        }
      ]
    },
    {
      "cell_type": "markdown",
      "source": [
        "### Resolver estas consignas sin usar JOIN:\n",
        "1. ¿Cuál es el nombre y la dirección de los procuradores que han trabajado en un asunto abierto?"
      ],
      "metadata": {
        "id": "OvOaPQYTgkBJ"
      },
      "id": "OvOaPQYTgkBJ"
    },
    {
      "cell_type": "code",
      "source": [
        "%%sql\n",
        "select P.nombre, P.direccion from Procuradores P where id_procurador in (select AP.id_procurador from Asuntos_Procuradores AP where numero_expediente in (select A.numero_expediente from Asuntos A where A.estado = 'Abierto'))"
      ],
      "metadata": {
        "id": "ZO891c6ZgrZm",
        "colab": {
          "base_uri": "https://localhost:8080/",
          "height": 116
        },
        "outputId": "c7956db4-9be3-4354-b721-ac351090a25b"
      },
      "id": "ZO891c6ZgrZm",
      "execution_count": null,
      "outputs": [
        {
          "output_type": "stream",
          "name": "stdout",
          "text": [
            " * sqlite:///ejemplos.db\n",
            "Done.\n"
          ]
        },
        {
          "output_type": "execute_result",
          "data": {
            "text/plain": [
              "[('Laura Sánchez', 'Calle Soler 3765, Buenos Aires'),\n",
              " ('Carlos López', 'Calle Estrellas 8, Mar del Plata')]"
            ],
            "text/html": [
              "<table>\n",
              "    <thead>\n",
              "        <tr>\n",
              "            <th>nombre</th>\n",
              "            <th>direccion</th>\n",
              "        </tr>\n",
              "    </thead>\n",
              "    <tbody>\n",
              "        <tr>\n",
              "            <td>Laura Sánchez</td>\n",
              "            <td>Calle Soler 3765, Buenos Aires</td>\n",
              "        </tr>\n",
              "        <tr>\n",
              "            <td>Carlos López</td>\n",
              "            <td>Calle Estrellas 8, Mar del Plata</td>\n",
              "        </tr>\n",
              "    </tbody>\n",
              "</table>"
            ]
          },
          "metadata": {},
          "execution_count": 19
        }
      ]
    },
    {
      "cell_type": "markdown",
      "source": [
        "2. ¿Qué clientes han tenido asuntos en los que ha participado el procurador Carlos López?"
      ],
      "metadata": {
        "id": "Y5qojbXWg9mh"
      },
      "id": "Y5qojbXWg9mh"
    },
    {
      "cell_type": "code",
      "source": [
        "%%sql\n",
        "select C.nombre from Clientes C where dni in (select A.dni_cliente from Asuntos A where numero_expediente in (select AP.numero_expediente from Asuntos_Procuradores AP where id_procurador in (select P.id_procurador from Procuradores P where P.nombre = 'Carlos')))"
      ],
      "metadata": {
        "id": "JlQjPghDhBrj",
        "colab": {
          "base_uri": "https://localhost:8080/",
          "height": 95
        },
        "outputId": "050b7b3d-2087-4b72-8839-78df19fc6b10"
      },
      "id": "JlQjPghDhBrj",
      "execution_count": null,
      "outputs": [
        {
          "output_type": "stream",
          "name": "stdout",
          "text": [
            " * sqlite:///ejemplos.db\n",
            "Done.\n"
          ]
        },
        {
          "output_type": "execute_result",
          "data": {
            "text/plain": [
              "[('Ana García',)]"
            ],
            "text/html": [
              "<table>\n",
              "    <thead>\n",
              "        <tr>\n",
              "            <th>nombre</th>\n",
              "        </tr>\n",
              "    </thead>\n",
              "    <tbody>\n",
              "        <tr>\n",
              "            <td>Ana García</td>\n",
              "        </tr>\n",
              "    </tbody>\n",
              "</table>"
            ]
          },
          "metadata": {},
          "execution_count": 27
        }
      ]
    },
    {
      "cell_type": "markdown",
      "source": [
        "3. ¿Cuántos asuntos ha gestionado cada procurador?\n"
      ],
      "metadata": {
        "id": "1NfxB7M6hKsX"
      },
      "id": "1NfxB7M6hKsX"
    },
    {
      "cell_type": "code",
      "source": [
        "%%sql\n",
        "select (select count(*) from Asuntos_Procuradores AP where AP.id_procurador = P.id_procurador) as cant_asuntos, P.nombre from Procuradores P\n"
      ],
      "metadata": {
        "id": "kZHFCFX0hS5-",
        "colab": {
          "base_uri": "https://localhost:8080/",
          "height": 137
        },
        "outputId": "359506ff-d0b4-46e9-c4a5-f5fa59df1c45"
      },
      "id": "kZHFCFX0hS5-",
      "execution_count": null,
      "outputs": [
        {
          "output_type": "stream",
          "name": "stdout",
          "text": [
            " * sqlite:///ejemplos.db\n",
            "Done.\n"
          ]
        },
        {
          "output_type": "execute_result",
          "data": {
            "text/plain": [
              "[(2, 'Laura Sánchez'), (1, 'Carlos López'), (1, 'Marta Díaz')]"
            ],
            "text/html": [
              "<table>\n",
              "    <thead>\n",
              "        <tr>\n",
              "            <th>cant_asuntos</th>\n",
              "            <th>nombre</th>\n",
              "        </tr>\n",
              "    </thead>\n",
              "    <tbody>\n",
              "        <tr>\n",
              "            <td>2</td>\n",
              "            <td>Laura Sánchez</td>\n",
              "        </tr>\n",
              "        <tr>\n",
              "            <td>1</td>\n",
              "            <td>Carlos López</td>\n",
              "        </tr>\n",
              "        <tr>\n",
              "            <td>1</td>\n",
              "            <td>Marta Díaz</td>\n",
              "        </tr>\n",
              "    </tbody>\n",
              "</table>"
            ]
          },
          "metadata": {},
          "execution_count": 34
        }
      ]
    },
    {
      "cell_type": "markdown",
      "source": [
        "4. Lista los números de expediente y fechas de inicio de los asuntos de los clientes que viven en Buenos Aires."
      ],
      "metadata": {
        "id": "zHUFuerKhjc2"
      },
      "id": "zHUFuerKhjc2"
    },
    {
      "cell_type": "code",
      "source": [
        "%%sql\n",
        "select A.numero_expediente, A.fecha_inicio from Asuntos A where A.dni_cliente in (select C.dni from Clientes C where C.direccion like '%Buenos Aires%')"
      ],
      "metadata": {
        "id": "9RDQt_5lipod",
        "colab": {
          "base_uri": "https://localhost:8080/",
          "height": 95
        },
        "outputId": "7aba2112-a6b5-4ca3-cd1b-d9ba270b128c"
      },
      "id": "9RDQt_5lipod",
      "execution_count": 4,
      "outputs": [
        {
          "output_type": "stream",
          "name": "stdout",
          "text": [
            " * sqlite:///ejemplos.db\n",
            "Done.\n"
          ]
        },
        {
          "output_type": "execute_result",
          "data": {
            "text/plain": [
              "[(1, '2023-01-15')]"
            ],
            "text/html": [
              "<table>\n",
              "    <thead>\n",
              "        <tr>\n",
              "            <th>numero_expediente</th>\n",
              "            <th>fecha_inicio</th>\n",
              "        </tr>\n",
              "    </thead>\n",
              "    <tbody>\n",
              "        <tr>\n",
              "            <td>1</td>\n",
              "            <td>2023-01-15</td>\n",
              "        </tr>\n",
              "    </tbody>\n",
              "</table>"
            ]
          },
          "metadata": {},
          "execution_count": 4
        }
      ]
    },
    {
      "cell_type": "markdown",
      "source": [
        "# Entrega\n",
        "La entrega consiste en completar esta hoja y subirla a su repositorio GIT\n",
        "Se deben entregar también los diagramas de esquema de tablas como imagenes aparte.\n",
        "Fecha límite: 30 de septiembre a las 23:59 hs"
      ],
      "metadata": {
        "id": "aIF74m2eV9J9"
      },
      "id": "aIF74m2eV9J9"
    }
  ],
  "metadata": {
    "colab": {
      "provenance": []
    },
    "language_info": {
      "name": "python"
    },
    "kernelspec": {
      "name": "python3",
      "display_name": "Python 3"
    }
  },
  "nbformat": 4,
  "nbformat_minor": 5
}